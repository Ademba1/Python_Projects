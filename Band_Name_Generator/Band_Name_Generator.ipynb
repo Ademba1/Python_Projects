### Band Name Generator

print ("Welcome to the band name Generator\n")
city = input("Which city did you grow up in?\n")
pet = input("What is the name of your pet?\n")

band_name = print ("Your band name could be: "+ city+ " "+pet)

### BMI Calculator

# 🚨 Don't change the code below 👇
height = input("enter your height in m: ")
weight = input("enter your weight in kg: ")
# 🚨 Don't change the code above 👆

#Write your code below this line 👇

BMI = float (weight) /(float (height) ** 2)

print(int(BMI))

#f-string
score = 1
height = 1.7
isWinning = True

print(f"Your score is {score}, your height is {height} and your winning is {isWinning}")



